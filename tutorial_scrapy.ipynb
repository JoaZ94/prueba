{
  "nbformat": 4,
  "nbformat_minor": 0,
  "metadata": {
    "colab": {
      "provenance": [],
      "authorship_tag": "ABX9TyNA9LqRjAfttajkC/vd9nYt",
      "include_colab_link": true
    },
    "kernelspec": {
      "name": "python3",
      "display_name": "Python 3"
    },
    "language_info": {
      "name": "python"
    }
  },
  "cells": [
    {
      "cell_type": "markdown",
      "metadata": {
        "id": "view-in-github",
        "colab_type": "text"
      },
      "source": [
        "<a href=\"https://colab.research.google.com/github/JoaZ94/prueba/blob/main/tutorial_scrapy.ipynb\" target=\"_parent\"><img src=\"https://colab.research.google.com/assets/colab-badge.svg\" alt=\"Open In Colab\"/></a>"
      ]
    },
    {
      "cell_type": "markdown",
      "source": [
        "Fuente: https://docs.scrapy.org/en/latest/intro/install.html\n",
        "\n",
        "Recomendamos instalar Scrapy dentro de un entorno virtual en todas las plataformas."
      ],
      "metadata": {
        "id": "2J4R_ylf97Gx"
      }
    },
    {
      "cell_type": "code",
      "source": [
        "!pip install Scrapy"
      ],
      "metadata": {
        "colab": {
          "base_uri": "https://localhost:8080/"
        },
        "id": "t05bvpoF93fB",
        "outputId": "e5095558-15b6-42ae-b64f-2b2fae6a4f60"
      },
      "execution_count": null,
      "outputs": [
        {
          "output_type": "stream",
          "name": "stdout",
          "text": [
            "Looking in indexes: https://pypi.org/simple, https://us-python.pkg.dev/colab-wheels/public/simple/\n",
            "Collecting Scrapy\n",
            "  Downloading Scrapy-2.6.1-py2.py3-none-any.whl (264 kB)\n",
            "\u001b[K     |████████████████████████████████| 264 kB 10.2 MB/s \n",
            "\u001b[?25hCollecting zope.interface>=4.1.3\n",
            "  Downloading zope.interface-5.4.0-cp37-cp37m-manylinux2010_x86_64.whl (251 kB)\n",
            "\u001b[K     |████████████████████████████████| 251 kB 49.5 MB/s \n",
            "\u001b[?25hCollecting tldextract\n",
            "  Downloading tldextract-3.3.1-py3-none-any.whl (93 kB)\n",
            "\u001b[K     |████████████████████████████████| 93 kB 2.0 MB/s \n",
            "\u001b[?25hCollecting Twisted>=17.9.0\n",
            "  Downloading Twisted-22.4.0-py3-none-any.whl (3.1 MB)\n",
            "\u001b[K     |████████████████████████████████| 3.1 MB 48.7 MB/s \n",
            "\u001b[?25hCollecting pyOpenSSL>=16.2.0\n",
            "  Downloading pyOpenSSL-22.0.0-py2.py3-none-any.whl (55 kB)\n",
            "\u001b[K     |████████████████████████████████| 55 kB 4.6 MB/s \n",
            "\u001b[?25hCollecting cryptography>=2.0\n",
            "  Downloading cryptography-37.0.4-cp36-abi3-manylinux_2_24_x86_64.whl (4.1 MB)\n",
            "\u001b[K     |████████████████████████████████| 4.1 MB 42.1 MB/s \n",
            "\u001b[?25hCollecting itemloaders>=1.0.1\n",
            "  Downloading itemloaders-1.0.4-py3-none-any.whl (11 kB)\n",
            "Collecting service-identity>=16.0.0\n",
            "  Downloading service_identity-21.1.0-py2.py3-none-any.whl (12 kB)\n",
            "Requirement already satisfied: lxml>=3.5.0 in /usr/local/lib/python3.7/dist-packages (from Scrapy) (4.2.6)\n",
            "Collecting itemadapter>=0.1.0\n",
            "  Downloading itemadapter-0.6.0-py3-none-any.whl (10 kB)\n",
            "Collecting queuelib>=1.4.2\n",
            "  Downloading queuelib-1.6.2-py2.py3-none-any.whl (13 kB)\n",
            "Collecting cssselect>=0.9.1\n",
            "  Downloading cssselect-1.1.0-py2.py3-none-any.whl (16 kB)\n",
            "Collecting w3lib>=1.17.0\n",
            "  Downloading w3lib-1.22.0-py2.py3-none-any.whl (20 kB)\n",
            "Collecting PyDispatcher>=2.0.5\n",
            "  Downloading PyDispatcher-2.0.5.zip (47 kB)\n",
            "\u001b[K     |████████████████████████████████| 47 kB 2.3 MB/s \n",
            "\u001b[?25hCollecting protego>=0.1.15\n",
            "  Downloading Protego-0.2.1-py2.py3-none-any.whl (8.2 kB)\n",
            "Collecting parsel>=1.5.0\n",
            "  Downloading parsel-1.6.0-py2.py3-none-any.whl (13 kB)\n",
            "Requirement already satisfied: setuptools in /usr/local/lib/python3.7/dist-packages (from Scrapy) (57.4.0)\n",
            "Requirement already satisfied: cffi>=1.12 in /usr/local/lib/python3.7/dist-packages (from cryptography>=2.0->Scrapy) (1.15.1)\n",
            "Requirement already satisfied: pycparser in /usr/local/lib/python3.7/dist-packages (from cffi>=1.12->cryptography>=2.0->Scrapy) (2.21)\n",
            "Collecting jmespath>=0.9.5\n",
            "  Downloading jmespath-1.0.1-py3-none-any.whl (20 kB)\n",
            "Requirement already satisfied: six>=1.6.0 in /usr/local/lib/python3.7/dist-packages (from parsel>=1.5.0->Scrapy) (1.15.0)\n",
            "Requirement already satisfied: pyasn1 in /usr/local/lib/python3.7/dist-packages (from service-identity>=16.0.0->Scrapy) (0.4.8)\n",
            "Requirement already satisfied: attrs>=19.1.0 in /usr/local/lib/python3.7/dist-packages (from service-identity>=16.0.0->Scrapy) (21.4.0)\n",
            "Requirement already satisfied: pyasn1-modules in /usr/local/lib/python3.7/dist-packages (from service-identity>=16.0.0->Scrapy) (0.2.8)\n",
            "Collecting Automat>=0.8.0\n",
            "  Downloading Automat-20.2.0-py2.py3-none-any.whl (31 kB)\n",
            "Collecting incremental>=21.3.0\n",
            "  Downloading incremental-21.3.0-py2.py3-none-any.whl (15 kB)\n",
            "Requirement already satisfied: typing-extensions>=3.6.5 in /usr/local/lib/python3.7/dist-packages (from Twisted>=17.9.0->Scrapy) (4.1.1)\n",
            "Collecting hyperlink>=17.1.1\n",
            "  Downloading hyperlink-21.0.0-py2.py3-none-any.whl (74 kB)\n",
            "\u001b[K     |████████████████████████████████| 74 kB 4.3 MB/s \n",
            "\u001b[?25hCollecting constantly>=15.1\n",
            "  Downloading constantly-15.1.0-py2.py3-none-any.whl (7.9 kB)\n",
            "Requirement already satisfied: idna>=2.5 in /usr/local/lib/python3.7/dist-packages (from hyperlink>=17.1.1->Twisted>=17.9.0->Scrapy) (2.10)\n",
            "Requirement already satisfied: filelock>=3.0.8 in /usr/local/lib/python3.7/dist-packages (from tldextract->Scrapy) (3.7.1)\n",
            "Requirement already satisfied: requests>=2.1.0 in /usr/local/lib/python3.7/dist-packages (from tldextract->Scrapy) (2.23.0)\n",
            "Collecting requests-file>=1.4\n",
            "  Downloading requests_file-1.5.1-py2.py3-none-any.whl (3.7 kB)\n",
            "Requirement already satisfied: urllib3!=1.25.0,!=1.25.1,<1.26,>=1.21.1 in /usr/local/lib/python3.7/dist-packages (from requests>=2.1.0->tldextract->Scrapy) (1.24.3)\n",
            "Requirement already satisfied: chardet<4,>=3.0.2 in /usr/local/lib/python3.7/dist-packages (from requests>=2.1.0->tldextract->Scrapy) (3.0.4)\n",
            "Requirement already satisfied: certifi>=2017.4.17 in /usr/local/lib/python3.7/dist-packages (from requests>=2.1.0->tldextract->Scrapy) (2022.6.15)\n",
            "Building wheels for collected packages: PyDispatcher\n",
            "  Building wheel for PyDispatcher (setup.py) ... \u001b[?25l\u001b[?25hdone\n",
            "  Created wheel for PyDispatcher: filename=PyDispatcher-2.0.5-py3-none-any.whl size=11516 sha256=6f3b775a15eba65fe91e5884ca4df400a9a85807edfa0559fbc35d1dcd54c1d5\n",
            "  Stored in directory: /root/.cache/pip/wheels/2d/18/21/3c6a732eaa69a339198e08bb63b7da2c45933a3428b29ec454\n",
            "Successfully built PyDispatcher\n",
            "Installing collected packages: w3lib, cssselect, zope.interface, requests-file, parsel, jmespath, itemadapter, incremental, hyperlink, cryptography, constantly, Automat, Twisted, tldextract, service-identity, queuelib, pyOpenSSL, PyDispatcher, protego, itemloaders, Scrapy\n",
            "Successfully installed Automat-20.2.0 PyDispatcher-2.0.5 Scrapy-2.6.1 Twisted-22.4.0 constantly-15.1.0 cryptography-37.0.4 cssselect-1.1.0 hyperlink-21.0.0 incremental-21.3.0 itemadapter-0.6.0 itemloaders-1.0.4 jmespath-1.0.1 parsel-1.6.0 protego-0.2.1 pyOpenSSL-22.0.0 queuelib-1.6.2 requests-file-1.5.1 service-identity-21.1.0 tldextract-3.3.1 w3lib-1.22.0 zope.interface-5.4.0\n"
          ]
        }
      ]
    },
    {
      "cell_type": "markdown",
      "source": [
        "Fuente: https://docs.scrapy.org/en/latest/intro/tutorial.html\n",
        "\n",
        "Ej 1: Vamos a raspar quotes.toscrape.com , un sitio web que enumera citas de autores famosos.\n",
        "\n",
        "Este tutorial lo guiará a través de estas tareas:\n",
        "\n",
        "Creando un nuevo proyecto de Scrapy\n",
        "\n",
        "\n",
        "\n",
        "1.   Creando un nuevo proyecto de Scrapy\n",
        "2.   Escribir una araña para rastrear un sitio y extraer datos\n",
        "3.   Exportando los datos raspados usando la línea de comando\n",
        "4.   Cambiar araña para seguir enlaces recursivamente\n",
        "5.   Usando argumentos de araña"
      ],
      "metadata": {
        "id": "kXd_2YfgAyuT"
      }
    },
    {
      "cell_type": "markdown",
      "source": [
        "Se crea un proyecto (Una carpeta llamada tutorial)\n",
        "\n",
        "\n",
        "\n",
        "\n",
        "```\n",
        "# Tiene formato de código\n",
        "tutorial/\n",
        "    scrapy.cfg            # Implementar el archivo de configuración\n",
        "    tutorial/             # Módulo de Python del proyecto, importará se código desde aquí \n",
        "        __init__.py\n",
        "\n",
        "        items.py          # Archivo de definición de elementos del proyecto file\n",
        "\n",
        "        middlewares.py    # Archivo de middleware del proyecto\n",
        "\n",
        "        pipelines.py      # Archivo de pipelines del proyecto\n",
        "\n",
        "        settings.py       # Archivo de configuración del proyecto\n",
        "\n",
        "        spiders/          # Directorio donde se guardarán las arañas \n",
        "              __init__.py\n",
        "```\n",
        "\n"
      ],
      "metadata": {
        "id": "lBbfAy9NFwrC"
      }
    },
    {
      "cell_type": "code",
      "source": [
        "# Se crea el proyecto\n",
        "!scrapy startproject tutorial"
      ],
      "metadata": {
        "colab": {
          "base_uri": "https://localhost:8080/"
        },
        "id": "appKgzHl_mk7",
        "outputId": "68382e54-6b9c-4c44-b9f2-6b65b4f6dd0c"
      },
      "execution_count": null,
      "outputs": [
        {
          "output_type": "stream",
          "name": "stdout",
          "text": [
            "New Scrapy project 'tutorial', using template directory '/usr/local/lib/python3.7/dist-packages/scrapy/templates/project', created in:\n",
            "    /content/tutorial\n",
            "\n",
            "You can start your first spider with:\n",
            "    cd tutorial\n",
            "    scrapy genspider example example.com\n"
          ]
        }
      ]
    },
    {
      "cell_type": "markdown",
      "source": [
        "Las arañas son clases que usted define y que Scrapy usa para extraer información de un sitio web (o un grupo de sitios web). Deben subclasificar Spidery definir las solicitudes iniciales a realizar, opcionalmente, cómo seguir los enlaces en las páginas y cómo analizar el contenido de la página descargada para extraer datos.\n",
        "\n",
        "Este es el código de nuestra primera Araña (Spider). Guárdelo en un archivo llamado \n",
        "\n",
        "```\n",
        "quotes_spider.py\n",
        "```\n",
        "\n",
        "En el directorio de su proyecto tutorial/spiders"
      ],
      "metadata": {
        "id": "AjiYhjGIJdYX"
      }
    },
    {
      "cell_type": "markdown",
      "source": [
        "Requiere abrir el archivo creado anteriormente\n",
        "```\n",
        "import scrapy\n",
        "\n",
        "\n",
        "class QuotesSpider(scrapy.Spider): # Nuestra araña subclasifica scrapy.Spider\n",
        "    name = \"quotes\" # Metodo que identifica la araña y debe ser único\n",
        "\n",
        "    def start_requests(self): # Debe devolver una iteración de Solicitudes\n",
        "        urls = [\n",
        "            'https://quotes.toscrape.com/page/1/',\n",
        "            'https://quotes.toscrape.com/page/2/',\n",
        "        ]\n",
        "        for url in urls:\n",
        "            yield scrapy.Request(url=url, callback=self.parse)\n",
        "\n",
        "    def parse(self, response): # Método que será llamado para manejar la respuesta descargada para \n",
        "    # cada una de las solicitudes realizadas.\n",
        "\n",
        "    # Generalmente analiza la respuesta, extrae los datos raspados como dictados y también \n",
        "    # encuentra nuevas URL para seguir y crea nuevas solicitudes ( Request) a partir de ellas.\n",
        "        page = response.url.split(\"/\")[-2]\n",
        "        filename = f'quotes-{page}.html'\n",
        "        with open(filename, 'wb') as f:\n",
        "            f.write(response.body)\n",
        "        self.log(f'Saved file {filename}')\n",
        "```"
      ],
      "metadata": {
        "id": "NmmyiFCwY5XX"
      }
    },
    {
      "cell_type": "code",
      "source": [
        "from google.colab import drive\n",
        "drive.mount('/content/drive')"
      ],
      "metadata": {
        "id": "Lbe-ui0cg4E_"
      },
      "execution_count": null,
      "outputs": []
    },
    {
      "cell_type": "markdown",
      "source": [
        "Cómo ejecutar nuestra araña\n",
        "\n",
        "Para poner nuestra araña a trabajar, vaya al directorio de nivel superior del proyecto y ejecute:\n",
        "```\n",
        "scrapy crawl quotes\n",
        "```"
      ],
      "metadata": {
        "id": "5yZV41vGRniV"
      }
    },
    {
      "cell_type": "code",
      "source": [
        "!pwd #Se verifica el directorio de ejecución"
      ],
      "metadata": {
        "colab": {
          "base_uri": "https://localhost:8080/"
        },
        "id": "V77gogbiSOjS",
        "outputId": "0171bc66-fc6d-46db-8cd2-757bfb879260"
      },
      "execution_count": null,
      "outputs": [
        {
          "output_type": "stream",
          "name": "stdout",
          "text": [
            "/content\n"
          ]
        }
      ]
    },
    {
      "cell_type": "code",
      "source": [
        "# Se pasa al directorio principal del proyecto /tutorial\n",
        "# Fuente: https://foroayuda.es/cambio-de-directorio-de-google-colab/\n",
        "\n",
        "%cd /content/tutorial/"
      ],
      "metadata": {
        "colab": {
          "base_uri": "https://localhost:8080/"
        },
        "id": "f3yiYOAGSqiF",
        "outputId": "a67f8fd9-250d-419b-b48f-40533a4b9dee"
      },
      "execution_count": null,
      "outputs": [
        {
          "output_type": "stream",
          "name": "stdout",
          "text": [
            "/content/tutorial\n"
          ]
        }
      ]
    },
    {
      "cell_type": "code",
      "source": [
        "!pwd"
      ],
      "metadata": {
        "colab": {
          "base_uri": "https://localhost:8080/"
        },
        "id": "msXg8Ew5TKmo",
        "outputId": "04c9c8c1-1d32-429c-909d-0a1a56313396"
      },
      "execution_count": null,
      "outputs": [
        {
          "output_type": "stream",
          "name": "stdout",
          "text": [
            "/content/tutorial\n"
          ]
        }
      ]
    },
    {
      "cell_type": "code",
      "source": [
        "!scrapy crawl quotes"
      ],
      "metadata": {
        "colab": {
          "base_uri": "https://localhost:8080/"
        },
        "id": "ebzXD9QZSZ67",
        "outputId": "558a1118-5e82-4e37-cb92-bc5e6d6a00ae"
      },
      "execution_count": null,
      "outputs": [
        {
          "output_type": "stream",
          "name": "stdout",
          "text": [
            "2022-07-20 13:39:23 [scrapy.utils.log] INFO: Scrapy 2.6.1 started (bot: tutorial)\n",
            "2022-07-20 13:39:23 [scrapy.utils.log] INFO: Versions: lxml 4.2.6.0, libxml2 2.9.8, cssselect 1.1.0, parsel 1.6.0, w3lib 1.22.0, Twisted 22.4.0, Python 3.7.13 (default, Apr 24 2022, 01:04:09) - [GCC 7.5.0], pyOpenSSL 22.0.0 (OpenSSL 3.0.5 5 Jul 2022), cryptography 37.0.4, Platform Linux-5.4.188+-x86_64-with-Ubuntu-18.04-bionic\n",
            "2022-07-20 13:39:23 [scrapy.crawler] INFO: Overridden settings:\n",
            "{'BOT_NAME': 'tutorial',\n",
            " 'NEWSPIDER_MODULE': 'tutorial.spiders',\n",
            " 'ROBOTSTXT_OBEY': True,\n",
            " 'SPIDER_MODULES': ['tutorial.spiders']}\n",
            "2022-07-20 13:39:23 [scrapy.utils.log] DEBUG: Using reactor: twisted.internet.epollreactor.EPollReactor\n",
            "2022-07-20 13:39:23 [scrapy.extensions.telnet] INFO: Telnet Password: 1446a69b06e0f32f\n",
            "2022-07-20 13:39:23 [scrapy.middleware] INFO: Enabled extensions:\n",
            "['scrapy.extensions.corestats.CoreStats',\n",
            " 'scrapy.extensions.telnet.TelnetConsole',\n",
            " 'scrapy.extensions.memusage.MemoryUsage',\n",
            " 'scrapy.extensions.logstats.LogStats']\n",
            "2022-07-20 13:39:23 [scrapy.middleware] INFO: Enabled downloader middlewares:\n",
            "['scrapy.downloadermiddlewares.robotstxt.RobotsTxtMiddleware',\n",
            " 'scrapy.downloadermiddlewares.httpauth.HttpAuthMiddleware',\n",
            " 'scrapy.downloadermiddlewares.downloadtimeout.DownloadTimeoutMiddleware',\n",
            " 'scrapy.downloadermiddlewares.defaultheaders.DefaultHeadersMiddleware',\n",
            " 'scrapy.downloadermiddlewares.useragent.UserAgentMiddleware',\n",
            " 'scrapy.downloadermiddlewares.retry.RetryMiddleware',\n",
            " 'scrapy.downloadermiddlewares.redirect.MetaRefreshMiddleware',\n",
            " 'scrapy.downloadermiddlewares.httpcompression.HttpCompressionMiddleware',\n",
            " 'scrapy.downloadermiddlewares.redirect.RedirectMiddleware',\n",
            " 'scrapy.downloadermiddlewares.cookies.CookiesMiddleware',\n",
            " 'scrapy.downloadermiddlewares.httpproxy.HttpProxyMiddleware',\n",
            " 'scrapy.downloadermiddlewares.stats.DownloaderStats']\n",
            "2022-07-20 13:39:23 [scrapy.middleware] INFO: Enabled spider middlewares:\n",
            "['scrapy.spidermiddlewares.httperror.HttpErrorMiddleware',\n",
            " 'scrapy.spidermiddlewares.offsite.OffsiteMiddleware',\n",
            " 'scrapy.spidermiddlewares.referer.RefererMiddleware',\n",
            " 'scrapy.spidermiddlewares.urllength.UrlLengthMiddleware',\n",
            " 'scrapy.spidermiddlewares.depth.DepthMiddleware']\n",
            "2022-07-20 13:39:23 [scrapy.middleware] INFO: Enabled item pipelines:\n",
            "[]\n",
            "2022-07-20 13:39:23 [scrapy.core.engine] INFO: Spider opened\n",
            "2022-07-20 13:39:24 [scrapy.extensions.logstats] INFO: Crawled 0 pages (at 0 pages/min), scraped 0 items (at 0 items/min)\n",
            "2022-07-20 13:39:24 [scrapy.extensions.telnet] INFO: Telnet console listening on 127.0.0.1:6023\n",
            "2022-07-20 13:39:24 [scrapy.core.engine] DEBUG: Crawled (404) <GET https://quotes.toscrape.com/robots.txt> (referer: None)\n",
            "2022-07-20 13:39:24 [scrapy.core.engine] DEBUG: Crawled (200) <GET https://quotes.toscrape.com/page/1/> (referer: None)\n",
            "2022-07-20 13:39:24 [quotes] DEBUG: Saved file quotes-1.html\n",
            "2022-07-20 13:39:24 [scrapy.core.engine] DEBUG: Crawled (200) <GET https://quotes.toscrape.com/page/2/> (referer: None)\n",
            "2022-07-20 13:39:24 [quotes] DEBUG: Saved file quotes-2.html\n",
            "2022-07-20 13:39:24 [scrapy.core.engine] INFO: Closing spider (finished)\n",
            "2022-07-20 13:39:24 [scrapy.statscollectors] INFO: Dumping Scrapy stats:\n",
            "{'downloader/request_bytes': 681,\n",
            " 'downloader/request_count': 3,\n",
            " 'downloader/request_method_count/GET': 3,\n",
            " 'downloader/response_bytes': 25579,\n",
            " 'downloader/response_count': 3,\n",
            " 'downloader/response_status_count/200': 2,\n",
            " 'downloader/response_status_count/404': 1,\n",
            " 'elapsed_time_seconds': 0.675644,\n",
            " 'finish_reason': 'finished',\n",
            " 'finish_time': datetime.datetime(2022, 7, 20, 13, 39, 24, 762713),\n",
            " 'log_count/DEBUG': 6,\n",
            " 'log_count/INFO': 10,\n",
            " 'memusage/max': 114057216,\n",
            " 'memusage/startup': 114057216,\n",
            " 'response_received_count': 3,\n",
            " 'robotstxt/request_count': 1,\n",
            " 'robotstxt/response_count': 1,\n",
            " 'robotstxt/response_status_count/404': 1,\n",
            " 'scheduler/dequeued': 2,\n",
            " 'scheduler/dequeued/memory': 2,\n",
            " 'scheduler/enqueued': 2,\n",
            " 'scheduler/enqueued/memory': 2,\n",
            " 'start_time': datetime.datetime(2022, 7, 20, 13, 39, 24, 87069)}\n",
            "2022-07-20 13:39:24 [scrapy.core.engine] INFO: Spider closed (finished)\n"
          ]
        }
      ]
    },
    {
      "cell_type": "code",
      "source": [
        "!zip -r /content/tutScrapy.zip /content/tutorial/\n",
        "\n",
        "from google.colab import files\n",
        "files.download(\"/content/tutScrapy.zip\")"
      ],
      "metadata": {
        "colab": {
          "base_uri": "https://localhost:8080/",
          "height": 364
        },
        "id": "FT-I5rJalKbR",
        "outputId": "d1e154a1-5306-4b1c-f61d-05b16bca41d4"
      },
      "execution_count": null,
      "outputs": [
        {
          "output_type": "stream",
          "name": "stdout",
          "text": [
            "  adding: content/tutorial/ (stored 0%)\n",
            "  adding: content/tutorial/scrapy.cfg (deflated 31%)\n",
            "  adding: content/tutorial/tutorial/ (stored 0%)\n",
            "  adding: content/tutorial/tutorial/middlewares.py (deflated 73%)\n",
            "  adding: content/tutorial/tutorial/__pycache__/ (stored 0%)\n",
            "  adding: content/tutorial/tutorial/__pycache__/settings.cpython-37.pyc (deflated 22%)\n",
            "  adding: content/tutorial/tutorial/__pycache__/__init__.cpython-37.pyc (deflated 30%)\n",
            "  adding: content/tutorial/tutorial/settings.py (deflated 61%)\n",
            "  adding: content/tutorial/tutorial/__init__.py (stored 0%)\n",
            "  adding: content/tutorial/tutorial/quotes-1.html (deflated 83%)\n",
            "  adding: content/tutorial/tutorial/pipelines.py (deflated 34%)\n",
            "  adding: content/tutorial/tutorial/spiders/ (stored 0%)\n",
            "  adding: content/tutorial/tutorial/spiders/__pycache__/ (stored 0%)\n",
            "  adding: content/tutorial/tutorial/spiders/__pycache__/__init__.cpython-37.pyc (deflated 28%)\n",
            "  adding: content/tutorial/tutorial/spiders/__pycache__/quotes_spyder.cpython-37.pyc (deflated 37%)\n",
            "  adding: content/tutorial/tutorial/spiders/.ipynb_checkpoints/ (stored 0%)\n",
            "  adding: content/tutorial/tutorial/spiders/__init__.py (deflated 27%)\n",
            "  adding: content/tutorial/tutorial/spiders/quotes_spyder.py (deflated 48%)\n",
            "  adding: content/tutorial/tutorial/items.py (deflated 34%)\n",
            "  adding: content/tutorial/tutorial/quotes-2.html (deflated 80%)\n"
          ]
        },
        {
          "output_type": "display_data",
          "data": {
            "text/plain": [
              "<IPython.core.display.Javascript object>"
            ],
            "application/javascript": [
              "\n",
              "    async function download(id, filename, size) {\n",
              "      if (!google.colab.kernel.accessAllowed) {\n",
              "        return;\n",
              "      }\n",
              "      const div = document.createElement('div');\n",
              "      const label = document.createElement('label');\n",
              "      label.textContent = `Downloading \"${filename}\": `;\n",
              "      div.appendChild(label);\n",
              "      const progress = document.createElement('progress');\n",
              "      progress.max = size;\n",
              "      div.appendChild(progress);\n",
              "      document.body.appendChild(div);\n",
              "\n",
              "      const buffers = [];\n",
              "      let downloaded = 0;\n",
              "\n",
              "      const channel = await google.colab.kernel.comms.open(id);\n",
              "      // Send a message to notify the kernel that we're ready.\n",
              "      channel.send({})\n",
              "\n",
              "      for await (const message of channel.messages) {\n",
              "        // Send a message to notify the kernel that we're ready.\n",
              "        channel.send({})\n",
              "        if (message.buffers) {\n",
              "          for (const buffer of message.buffers) {\n",
              "            buffers.push(buffer);\n",
              "            downloaded += buffer.byteLength;\n",
              "            progress.value = downloaded;\n",
              "          }\n",
              "        }\n",
              "      }\n",
              "      const blob = new Blob(buffers, {type: 'application/binary'});\n",
              "      const a = document.createElement('a');\n",
              "      a.href = window.URL.createObjectURL(blob);\n",
              "      a.download = filename;\n",
              "      div.appendChild(a);\n",
              "      a.click();\n",
              "      div.remove();\n",
              "    }\n",
              "  "
            ]
          },
          "metadata": {}
        },
        {
          "output_type": "display_data",
          "data": {
            "text/plain": [
              "<IPython.core.display.Javascript object>"
            ],
            "application/javascript": [
              "download(\"download_04b8a0fb-7dd6-4820-aa38-3e0bea55671c\", \"tutScrapy.zip\", 13428)"
            ]
          },
          "metadata": {}
        }
      ]
    }
  ]
}